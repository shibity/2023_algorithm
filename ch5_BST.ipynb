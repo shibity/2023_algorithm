{
 "cells": [
  {
   "cell_type": "markdown",
   "metadata": {
    "colab_type": "text",
    "id": "view-in-github"
   },
   "source": [
    "<a href=\"https://colab.research.google.com/github/jjyjung/algorithm/blob/gh-pages/ch5_blank.ipynb\" target=\"_parent\"><img src=\"https://colab.research.google.com/assets/colab-badge.svg\" alt=\"Open In Colab\"/></a>"
   ]
  },
  {
   "cell_type": "markdown",
   "metadata": {
    "id": "MAQnBxWSWCpW"
   },
   "source": [
    "# **Ch.5. BST(Binary Search Tree: 이진 탐색 트리)**"
   ]
  },
  {
   "cell_type": "markdown",
   "metadata": {
    "id": "9-3i_wsyUAOT"
   },
   "source": [
    "* Python Dictionary는 key:value 쌍을 저장하고 있으며, key를 통한 빠르고 효율적인 탐색이 필요함"
   ]
  },
  {
   "cell_type": "code",
   "execution_count": 1,
   "metadata": {
    "colab": {
     "base_uri": "https://localhost:8080/"
    },
    "id": "0IABKWEgMIpw",
    "outputId": "c1c48f97-7fc6-4112-cce8-000a3b69cb80"
   },
   "outputs": [
    {
     "data": {
      "text/plain": [
       "('Kang', 'kang@khu.ac.kr', '010-201-1239')"
      ]
     },
     "execution_count": 1,
     "metadata": {},
     "output_type": "execute_result"
    }
   ],
   "source": [
    "dict = {30: ('Kim', 'kim@khu.ac.kr', '010-201-1234'),\n",
    "  20: ('Lee', 'lee@khu.ac.kr', '010-201-1235'),\n",
    "  25: ('Park', 'park@khu.ac.kr', '010-201-1236'),\n",
    "  40: ('Choi', 'choi@khu.ac.kr', '010-201-1238'),\n",
    "  10: ('Jung', 'jung@khu.ac.kr', '010-201-1239'),\n",
    "  35: ('Kang', 'kang@khu.ac.kr', '010-201-1239')\n",
    "}\n",
    "\n",
    "dict[35]"
   ]
  },
  {
   "cell_type": "markdown",
   "metadata": {
    "id": "CmWEB4tFUTvp"
   },
   "source": [
    "* BST를 이용하면, 일반적인 Table에 대해서도 Dictionary와 같이 빠르고 효율적인 탐색을 구현할 수 있음 (평균 복잡도 O(log n))"
   ]
  },
  {
   "cell_type": "code",
   "execution_count": 2,
   "metadata": {
    "colab": {
     "base_uri": "https://localhost:8080/"
    },
    "id": "oiwirDbruujW",
    "outputId": "161b4162-938c-45b1-cfdb-4e0b63022ff0"
   },
   "outputs": [
    {
     "name": "stdout",
     "output_type": "stream",
     "text": [
      "(25, 'Park', 'park@khu.ac.kr', '010-201-1236')\n",
      "(25, 'Park', 'park@khu.ac.kr', '010-201-1236')\n"
     ]
    }
   ],
   "source": [
    "# columns: id, name, email, phone\n",
    "students = [(30, 'Kim', 'kim@khu.ac.kr', '010-201-1234'),\n",
    "  (20, 'Lee', 'lee@khu.ac.kr', '010-201-1235'),\n",
    "  (25, 'Park', 'park@khu.ac.kr', '010-201-1236'),\n",
    "  (40, 'Choi', 'choi@khu.ac.kr', '010-201-1238'),\n",
    "  (10, 'Jung', 'jung@khu.ac.kr', '010-201-1239'),\n",
    "  (35, 'Kang', 'kang@khu.ac.kr', '010-201-1239')\n",
    "]\n",
    "\n",
    "print(students[2])\n",
    "\n",
    "# students['id'=25] <= 순차적 검색만 가능함 (record를 하나씩 확인해야 하므로 복잡도 O(n))\n",
    "for stu in students:\n",
    "  if stu[0] == 25:\n",
    "    print(stu)"
   ]
  },
  {
   "cell_type": "markdown",
   "metadata": {
    "id": "4VL7dFTmP1Fn"
   },
   "source": [
    "![image.png](data:image/png;base64,iVBORw0KGgoAAAANSUhEUgAAAP4AAADKCAMAAACyow3YAAAAAXNSR0IArs4c6QAAAARnQU1BAACxjwv8YQUAAAMAUExURQAAAAAAAAAAAAAAAAAAAAAAAAAAAAAAAAAAAAAAAAAAAAAAAAAAAAAAAAAAAAAAAAAAAAAAAAAAAAAAAAAAAAAAAAAAAAAAAAAAAAAAAAAAAAAAAAAAAAAAAAAAAAAAAAAAAAAAAAAAAAAAAAAAAAAAAAAAAAAAAAAAAAAAAAAAAAAAAAAAAAAAAAAAAAAAAAAAAAAAAAAAAAAAAAAAAAAAAAAAAAAAAAAAAAAAAAAAAAAAAAAAAAAAAAAAAAAAAAAAAAAAAAAAAAAAAAAAAAAAAAAAAAAAAAAAAAAAAAAAAAAAAAAAAAAAAAAAAAAAAAAAAAAAAAAAAAAAAAAAAAAAAAAAAAAAAAAAAAAAAAAAAAAAAAAAAAAAAAAAAAAAAAAAAAAAAAAAAAAAAAAAAAAAAAAAAAAAAAAAAAAAAAAAAAAAAAAAAAAAAAAAAAAAAAAAAAAAAAAAAAAAAAAAAAAAAAAAAAAAAAAAAAAAAAAAAAAAAAAAAAAAAAAAAAAAAAAAAAAAAAAAAAAAAAAAAAAAAAAAAAAAAAAAAAAAAAAAAAAAAAAAAAAAAAAAAAAAAAAAAAAAAAAAAAAAAAAAAAAAAAAAAAAAAAAAAAAAAAAAAAAAAAAAAAAAAAAAAAAAAAAAAAAAAAAAAAAAAAAAAAAAAAAAAAAAAAAAAAAAAAAAAAAAAAAAAAAAAAAAAAAAAAAAAAAAAAAAAAAAAAAAAAAAAAAAAAAAAAAAAAAAAAAAAAAAAAAAAAAAAAAAAAAAAAAAAAAAAAAAAAAAAAAAAAAAAAAAAAAAAAAAAAAAAAAAAAAAAAAAAAAAAAAAAAAAAAAAAAAAAAAAAAAAAAAAAAAAAAAAAAAAAAAAAAAAAAAAAAAAAAAAAAAAAAAAAAAAAAAAAAAAAAAAAAAAAAAAAAAAAAAAAAAAAAAAAAAAAAAAAAAAAAAAAAAAAAAAAAAAAAAAAAAAAAAAAAAAAAAAAAAAAAAAAAAAAAAAAAAAAAAAAAAAAAAAAAAAAAAAAAAAALMw9IgAAAD/dFJOUwABAgMEBQYHCAkKCwwNDg8QERITFBUWFxgZGhscHR4fICEiIyQlJicoKSorLC0uLzAxMjM0NTY3ODk6Ozw9Pj9AQUJDREVGR0hJSktMTU5PUFFSU1RVVldYWVpbXF1eX2BhYmNkZWZnaGlqa2xtbm9wcXJzdHV2d3h5ent8fX5/gIGCg4SFhoeIiYqLjI2Oj5CRkpOUlZaXmJmam5ydnp+goaKjpKWmp6ipqqusra6vsLGys7S1tre4ubq7vL2+v8DBwsPExcbHyMnKy8zNzs/Q0dLT1NXW19jZ2tvc3d7f4OHi4+Tl5ufo6err7O3u7/Dx8vP09fb3+Pn6+/z9/usI2TUAAAAJcEhZcwAAFxEAABcRAcom8z8AABm+SURBVHhe7Z13QBPn/8cvbNmIAxS3okWtA8WFrdS696hFKuLWr6t1trVOKq1bq2itWkW04IICghMEREWZokzZyN4JAUSQ55c7noTc5RLuLnf8vuT3e/2RvBPE5Li753k+80H++9C1WXL0QXpmRkb2S9fVXxjCd/9v0Okb35ysVB9nx6VLly7Z6RmfnhG0qjf8mcqjuyW9ymvl5/AVSp/FfxUWHDOHr1QareXxefu7whfNGK1NKNhtBF+oLiMiS09YQI3HaGdh5gyoVRXHMk8rKGXp8mf1dihVEo0T9T9CSY5j5Q3VvQG0vctnQymPMdmvzKBUOdwqBkMlH7O4F+2gVDH2fhwPlSJ6Ff0DlWrh0LgEKsWMrjsIlSrRt8YZqpZwaPwSKhXi9jMoWsY9Rg0qlcG2lvop7StcDpWqwAvxhooKv6Wr2Ow/u2IQVFQwzt0NlYrgT+fkI8jBND2oVILehXOhIoMHn5uxEkyBSiVYlo8/m5qb7gX8Jjb81nheWgmlhJdHoVAJrt+Aogn9aynRdSCmG6q13OLGjY+4pI39QMKBBChUAbWUTVBhqP/HuSNi9QLsQ19sA1+IVnpgM/YTCVOLekClAvRKnwoVhtZY9HERcBc9di17i976UTkd0PckWKZMgkoFmJT2GVRSjAUrRI8rwEX0xWnghD5J0H+zBioVwD4Vf24xfr6pJXr8G+xHX2wHv6FPzUTvgkIFWJmiA1UzE59Zok/3wPfo01pwGX1qJoLw52jLrE1Wh0rMEA8AwochSLvn4Dv0tSMIwps5UUegUAGckomLuF6zD1eCGENENxzMQV+vJR5+tAoZ/XOTSBx4Y4vBDATxBY7oix/AbexNMbw4xT7RNsWYd6LrXIbjYDWCXAbrUb0XnMDeE2OasBQqFaBLJnaFE1gAFqATH3bcbmAh9p6YQam2UKkAaslkl/IyYXfRaebHiKRafAn+9phZ0AkqVcANZ+/yrHqJHg1f/oy+cAbDSRa9v72EQiVYUmgAFUrnHMHFGd/5HMNmQx3/Z9Y2kWcIM+PrvVCoBN0KFkOFornWP+busa/hK50dl12x0V8Ka8E4qFSDGw+hgGjAZwwt4qIIOR4vu0xsy3zxAbPyKGKWtxEqVcE7FAoqnI7ThEpVGCycD1XLDBa2FAhue7imUI7c+t+HQoUwL/gbqpbYWTsUKlXC7tNPUClmAVgFlWqxvI7K7W9TewgqVeNqg3ipI5/P39+CStVYmfeSj1m3CphX1ODfBWqVQvts1eZ26wTnFY7/B2r3Dnz+XgWzG7oFl6BhO7uCmIlNb5Dw+X2hA4LoneMTzL+2j216eF9M9PJuuDsaU0T6XagKbXIKra12lzYQ2z7rGtwkF71diODaVzLZK6OO8+MdxKbPuMxXJHGRtor6iQ84b8/MsJKEoxPMxVFN9U6j90WVpqyRMvI6+JYugLLN0yWoYBqUYmxcQirfhXr9jXI9KEkYfWYa3ujlOX+imgj2X45NatwAKKXQsJi7y/0xyi3n7/qQTAcLCu92hrIts1zgxmwc+ywiq817e9WPgV+gpI3BdX4bD/Oa3yueByUTNlRdaMspTjY5cfKLF6hgl/uqabnQFrEvv2MCJVMsHuW10QIX9cMfWUhRUDvccADKNoWpj9AeSuVwrLqt7DXU+oxMjWu5dIMan8ek2EDZVnCo9jOFUnmMbta2qRRv3sGaA7KZqkqws+o0mgfVNmjvU42P1ivP13nhbaXId/DrFGso2aPX85zJUP53802tP3u3fTNaJ2t2Qvm/i66JsbGJsbx7ce/Ho7jwLXusrPE0hlIGPfQ7GXH0wc1YrT/9b2R6amrau2due6fIdh3o4FvJzmxPxsjkN0OglIJnveWsXyz6nZKDL/70JXdFkMP2xOenhpzb8I29/bcOP9+ITs+7vQifrTowPovLKdrUq5qYCDHmSFreu8en1qDfyXGf9+usnCszOTGTRniXJbhMll6AWS25I8j4QeoSmFtyj9uMJLV9dYel3YRfB1dG/fKl9OEOW/2gKmkZ68kRQzw/hM6WycJALH7NTVotHgZ2g1Oc332z8oO6Q4nY+tcF2MmuL/q7lkYtgpod1F34UfPIawu7HCmOxOY5Iw8+mqHONZZR+XaY0PurMnACpmTo/1f5g55Qs0CHAL6T/FVcv5tlSxBkUELGKPgGt+hdqEKTwPvGZM9seoOMoUH5rBVDWSdEDoSSnB11+2cVBJL3pOCANTXuBna5jxV+ntbJj1imvPLMrHFvaSydWQT+gLI1GP82SXCoJaNihYCVr2RdfRYqBYyqOA1Vq7ACbIVKAVMBC7mRPd7/Sz7m4fmqoRXrToeWHodKIUvAMqgYYxARrQ+lYpY0lWW0BhZZvlC1wK7GpkmCOYcLqRbU/VraWnkJt95S7fF1NUW5FWB/IWXLXSvqL6g4xq6WPEJOgsl75YpCPEKpe22mCshqNlhHLewaVBRYW6TMJTlG+AVUVPALYNXDJYdv+VgFHDU0YyhMW3LxwxcYtcCQylbIytGKojTqi5lZzjxMZFlJb+R8QjVxUwkmVNA6HvUk5hPyQWJavdnwwZJp0MxOJn63rID7toueD6CQwnAINDp7T0TLZHA4xzO9IzVDTkEF+bEMgFfQm7P6qavHZUJpbq9csootVjFMll3K83wETfbdL4GuPkcJufDjCvpDRZceBfgszG2llw6FgU/Y8S8HcxDj8Ef4rgO852eg4oyxxbLW10aQjy1OnKuHI/0KCKtv3QymFYF2hbiz2zdgqOiKOA/QRUfXEjTpfAaQLtERceIR12P/8jSZT7CJSCtAD98GoNnA2wAhuHab6di/OQJ3cidh7Uc65TX2RotO/yPSFuWxuuh7ElbGct1w5+g9KCQYPVj8oBw9/KsAvVjHADfsbQl7gqGgy3n8tKfV9HcPA90RJBSgyVpqkWgRnhS2+TJDD8vcPQmFhGPHkGfo4ZsUVqO9gczKK/FhhoVFUNDFG2usQMAgU3RNmJY1YmlHjwG+IY1lBUkSF6u8IqYKzQnSR56jh28N8tBrQD2nXroJLFpFBQVdAgkDP4Z1o8iys6qpxu4wL4DrSYJ0q2Urqi2PBEK+r0XYGEQdO/xp4B122t9gF2YzIwAUdAnEV1U3cTVYZP6PaCjFus7caeq+IqEVDp9Q4nZtp+iEY4e/GERjfuZYgO8LyPjw75CYcF8lotm2A2qwwQb5F+xAnyRYVXJ98b/AJ8wsv4A+hpaZIMgsEINO+bx0wg1p9xEKupz3hKIZsyfY/92+ohabfgOx7ivNtMLQh2vn1D3r+l5n54Pva1136FqBFDQGo58L8JYH46FvSzihlxJicK0p0VAtrhGtytSMAfhQttOb9lBxxUk/KDDsGgFEaK4nzEON256CMnyk6SfqfRLxTC8mRKo1T2/BnjWQ3dhp71GRjjcKDj2m4hdUhg24ZY/ewMEihsTyJ3+miXg2ovHFCYDgCbvO1AvTr5RgwDpjTZTbr++IDPx0XaQmgR/QN5p5fB4KzrArJbH2n5Z1FD1Ox5oAbAHTsffEaCQwrYvTeuECFYbhJaHb31fdrqT+IzrFLp+sEa2gV3g3qHkmtWasSmCauhqqZtSjalCTR+12nqnoK1zDX4BDCxgXRbqGSwc1d5cUCoRCYXUp6gFSOxV74LoPodP6vHLuvZ0B+OZvKOo+8dgXMboRtMf7LMHi25bJOClqdKW0966vZW+UPjDHaJyTTFWe910oOGRhsUyaP69LTxhZnuw0skk0E+EKBX14keegooRFxTdQcYhBFq0UH5tqJfItFjStbSly4VVrJN9tL6bRxFztkZcSJrj6Ux+oKDCiulV67Ommyhh98pknUCqj3rZaftUhkcdeUHCMvYBylZtOAi23sCzuSVS9l+uofyslCX1CtbfFoVwlc406ZwZQW8hNamApnaBlBgooLuSWAeodM+TwOZ9S5H5gpTLhFJpMApRG/4kN1BomKGQivgSTHLOEAM6TuqRwqqWwvBwkwKxhJZkgqP+1pcljeHptq1ZcmPEb8G4mEqaW+7IwD1uVHZlZ5K+4oNK+6EGR7FKcQ66FbxJeUpy++n2tKwtH3z7lLg+xepOoYFsNw+PVO5GdH1qx5np2/VhkXGaYgiWZuXs5G/0O1R7Go557g8vl1+V8mO66rMJZogXSszDZnE+OMM5ER2MzvxJXOb4lk5/ykimnQCjCVRwfnh5ceYnk/Govfl1+DEuw6/8Ba7/XGpzOblqLOEQWHsE8rnh016Xk7mJlKNpS/xVUiJp9XI2XAy6VUMfOJaHiYh/4auMn9ms4SBnfIA6kaq1NqXRfgLo6JBhOPZVRfIid2u9ZQLpzfLv5Xplpr1x/mG6LYn/gbkZesnNzwJH3ILZVusxpxdyESoSJ4/2stKcnN0xBv9J4R5fHmXmxO8QnREkGVRG75HeY/6tXVGmNiOr0kAsbbHATYo/KVumsvKsCn83a1eGwb1wF+p2qUgJdV+NDPErQKc2XbL2rbdIBRV92pHNslJNhzSafCUmq2nXao1/JVI9FR6tGyGtqCY3N3EjjvOMKL4hpwJYmF4tpp8R3LOR84b+iKb7COT9R2kCMwCxCeJF1zEsZN4OgxXzCfgEUuVRA0omfRTzetIY/DbGuZdYh3TDrKlScMKuewSVJH7Nspo6riY3sVhHhMM5k7rWmgc7zSLqDvoQj5dwVtZzMbhWz+no+yVKaIjrxuBgsm4z9qEwbGMrsr1WmJmtkA0e9NrViWqWRoz0xW48me6pYWnQT+LGSu9uqmTEflKwA0noRpERkRS6W1Wuh4pJu+UrvhDqolgufd2AIFFyiF/Fc+RLwzR9Zs7skLK+hs6EhU27nsBCi5wW+ZNvzZV6MT6HjBpdqfJYqQ3ry2f6y195w15dAgpPyUaEmnOrZbWMwvUHZijwK2H5kbTMgrwQ2eygYpP8JFYf0LboClfJ0LlIytIzj2HsumsHgMXr7jEVrct4n9i7XUfVst0EiwTfDHCpWuJwht80MTTSj7kDFIceq2J2sTbIvQaUs2ysk7To4Y3Uj2xtiTPrETl2XZfUGqLhj0idCfioLnCxgJdpy/ymL/mtyBpRzkI2rnyibgUmfpdxv1dE+OYiLnXBG1yuf42tWyvlqV/1+GjfdlvZVKt0+x437/alcK5RrpysXzVf+UDFleoMkxswV6z/hNklmk0G1aLkjc/RTOa8QmNnY0oYhSrC1mkazAVmO5HG9K+NgIZcdhzSCQpUw/UfVcb1LQac0f06n1d4CfK0bHbQicZtYcoBGUBLHxtSKOsZJL1v5XNfFnc3ivP7kSjjDhM8+JQ5QcYGp9UKnM+DyvDFcRo60B0z5Gbg7Ok7Bqj6p02XM4mUv+SsWDuek86T5nFNvs1MTEzPeRCWlZkYfnclOLhQezXE7g3PSk2NfpycmpqSn/rOcYmZCX4fLqVmpCUmp0W+S0zKf7rVjOWdk7LUMfvDeBSM7GxkZGnUaNn/Xk/I0Dzodeqhgvj+Wn3jGaUIvQ0NDY5N+k9dezyl4urpFh6XarIDcMr/ts4aaGhsaGZmPsneJqEg4y+KybLR3XcgmQglal83BH+6wkggJ6XSg4N1hG7wh0W7m9eIYR8XzzIwQoZ8j/m5Us9wTXXVeqeVDM/3cBaGkfRwnh/Ld2doJQven4vdbyMp5e/9RGoUvsMYx9j7/BpmnXWdJEv8YLn2RIYtLnsl1Qsx+WfwtlMrR71XFbnlfduCV2jPyrMsfq7zlbT/cbk1WBp29bEnh/f5pj4KLT23/RzZ2/f86N1iRoTcx7Snpj41vlyua6EyuCZXs0t/Ru6QF/9O8EuV3gthac0TxOrdbaD5Jis6A6NQWIkzfC44r45UwiHrbD0q5fJbynHFeSxN7QYsnSeeCUKa5mWVJy/s5TK6+DBUD1HzfU8hZ6ZF/R6no/DJApY7ArYwwkndIDqPg1rD9yHybljPUwpcjqo9BxYSvAaUOaZqPk3HnWjsojdLC69tGpp2g/wMUdDWWZiahIQcd+lZQdO6bJN6XvsjOUq2B3FHPbPy3KKFseO7OZ+xj8Iyi6pkbzJfq7Gpbi2+5oIBbLxgNf6cTKNtdmglkDXuoMLpG3rwty68ZkjFWLYR6FMuijEm2rZWARhBnLsO6Z14oDce+caYkO3m+gEZPvX2ZDKZmz8c0fE68x8ziE7Mr6bQGXFEIDQ+dGBol6YhhOv2tvqwqaHUR/aKKkYXxlJZbVisFBjAWlBAMMMVszMF3yaPA77G0JnOtWCZlOSPK6I3K++Ob8gnuStUmUaBbAd3dT3ipMheMxjyJC276TgdiKN4lhtiwiQK/vSWMrt2Xb18gnt61p86ZPXs+zrM2qBJLnjUXEIb9bht3zBU7eXSnzZ09Zx7eIedPN/PQKpdgy5suey5em7ZzD1pxMobgjhxfRLIFTAuohxIKvxzKAABxsLxpKdpaqgK3s5R2BNYXyDEVbx0uyBUC8AjeD8vQXyvCe8rWptPsCWmfQkhb+XJDjjhz95ywD4J4p+LPv/Z76Qo+anQuwze6GJZ5yM4+HBRgw4hB8L07XgFb8LfgOaws6RI+EDbm3kKraQngPPZPDYNEv+ZPyGa15NNMGztIbKjDQ/6Ah28D0PKjsYS+g8hdslaFirHFuiVKUDuKrmuMI5u2Yl13GH0ksOK1aA7jPUY7jDazEDXLJn16ja2f1uF/1oRBLM1ycX/Z/+UwPHxXLJXPpCoV36PjRAAU1FkXjbsm9adjU+0arHWo3qtVJKuu8ekDEKT9a7yFiPkjetR7o8/64atI3BNqATSXZSmyl/LRpsM3iAXolaQZAfCjw+Y3UFDn6EPcpQ1fzAPoJLIB1MX/LlPl1L1QNFVYZpM4WSeUjkGfNoAPb11kVzmXaZbalMqWQcDD7yNsQDOa1O4D/KrQKRsK6vz9LxQ4tgHRIWr8/KgAgHhiqptR2VcIMqRItjRe+0/sy6n9ElgIwGuZP8+ZQCgoUiPbUAge/mBQhvk3vQB+fPmOfo9DD7KlolrQPdFlwFNTN1z4ChQRWlnqCqYgiHUZsfrBdGkocEfHEdGvmXwbCd4TfWN/PIeCIhWyti48fGuQg9VIeIGmToRinHKhoI4bWTf7GSUSS9bAF1zDj/xGlV8jyNBioq3bdd+TBhAuHosMfQFxMelKM7U/lbiRmeTwBzRgDZ55frhadQTZlAgFdY6TZHLoP5X6bztn5eL9Wd1KbEX3fhZ2m+OZU9i8q4p5EXGVe5ni1iRiQmQ7K8DD71JUh5opGiGE/qa/0q+d2B4mG8I59zsUGIcB3tc4PEe0uDKPJ4vh/yx1yv+oJ3jNvWh2pDkn23MVHr7WE4C2uGuXJcDfgR70UzJnZMpYLr+cxdmZ6wvxq9dF8eaiSecZWe3QUNA8uW1MxftQdF5sg4oim2SnMXj4yPcArYfvCfCzFvKa5ieIsBSOgErM+vPYYlPi1jh7E29173+BvvYhGzJ7SjUb/puQaG6eR3O7sXHvZQzY30FTlnRX/iPR4yqA/x/7lNDPx24Xjx89kRUX0dBsx91LEJ2h6H0xIgw/8vMCML/1j7EkQez9EaI/mu5Q9CcjnxEmjGnFNHMSDPOI+YW82+Idq5Y2LEEG5hKagK1JZ1CJfeUhFBjaO0Hxu8zMzJLy3siM+ucLxm4MIMw/nXMxy3V4pbR5pX41fq1l/63RaJvMRfVh87/Y7EP0A54NpuG6wfAjFECO/PFe8K0NTb5lh6cXfLcQ1pZ+pEuYFlhcIH3zDw999iJSRLTIrLPwrxbGnSPGWBxKsS+glSh986sf4tdE+7hgi5Fud6v5cX8QEyP0xW4S6syuxOfq65pq8LRN4TJc/3PiutKCzyQZ2+C9dP9wTQ0eRtMftms/2Sv8ETwn+1JwzluDAf0k+Qzd+8h6diZV0W4Erh9/BCpKuCQxyin5PYVOAupQPtxXuW8FrRwePwY10osqWwzvNdOP3veRYF5MJ4ntnmTxcjyVxl97WhWDWjteqOzULxePMPwsSJltRdS7qM4SSqpHOhZTbz6rFcsozXWckHLfhy+FTBMJdJMot27RipfqAvl9KWVf74YiZhVHVzMp/l6XXOZdDuc0Uu1UfEG6i6h2zEOKMahRdYTtGajSIfE5pTtMPzxWiRIslzpqV85ObBcZCQMqyLZBkaVX/g2G9yXSp9iDyq/eLFYqk9SjiErzgm8JBiby1UcqDXkMYl7SDnFIGNfQcjCJd5JhBFmMTlgKcZ0iy9QGXOt7lGXYRkeK0buXpUwDh+llLSWQdPQvhZMxY8yeZrYUUPvhA4mvctOnEy2sZa1iEpVLbxyW+EZhz/EhCXF0epKTo322TuGJ1LtSQbpB7Iz8AIXT5uwKP2VrG4w8yn6QGyIx3lp2jWpLaoWsF7rLD/VOeZtB4t5B6fUif7HcCaDLUcFvJE5vunxfEL+a9DM0VyXlEyxWxox5UeZKPgLYPvp4S+4ErH+y5gW5sdF+T24iO60FLI4URq2UySMyWx5VfIRWnFkhmo6J5UdlNmZVn+RRE6hwYBj8T8WjeTLzc7/tWVnblMy3a6bv+aIcz0UDJGaeyaClXnnFF2kYBRQw2JhWGLZlhJk4uKjXa+qplNJnM+BLuYz0Ks74c0Yfsc2n1nH4xkeFhQeZLfXk0GWVR2Z+dOAtDxGeD2NLs2+tY78lkOaMU9Hl8WE+6Id4+L7Mrgg5SClnfMAW34LsiIc30F+7+SSen3xFJv6uPEbWKw/f9hVx5/CaYVxtIqjTc+Guq+iH+J7fOrkjdR9N+/HrT/2L/pqn89L+rF31/8//PRDkfwC6diPixkje2AAAAABJRU5ErkJggg==)"
   ]
  },
  {
   "cell_type": "markdown",
   "metadata": {
    "id": "HJyAPceaUtqi"
   },
   "source": [
    "**Tree Node의 클래스 구현 (참고하기)**"
   ]
  },
  {
   "cell_type": "code",
   "execution_count": 3,
   "metadata": {
    "id": "ojfhdAhAxoBH"
   },
   "outputs": [],
   "source": [
    "class Node():\n",
    "  def __init__(self, key):\n",
    "    self.key = key      # node의 key값\n",
    "    self.left = None    # node의 left child\n",
    "    self.right = None   # node의 right child\n",
    "    self.parent = None  # node의 parent"
   ]
  },
  {
   "cell_type": "markdown",
   "metadata": {
    "id": "wIQ04uWJU1Fg"
   },
   "source": [
    "**BST에서의 삽입 구현**"
   ]
  },
  {
   "cell_type": "code",
   "execution_count": 4,
   "metadata": {
    "id": "7cGOSqKvak85"
   },
   "outputs": [],
   "source": [
    "def treeInsert(t, key):\n",
    "    # 새로운 노드 생성\n",
    "    z = Node(key)\n",
    "    \n",
    "    # y는 현재 노드의 부모를 추적하기 위한 변수\n",
    "    y = None\n",
    "    # x는 트리를 순회하기 위한 변수\n",
    "    x = t\n",
    "    \n",
    "    # 트리를 순회하면서 삽입할 위치를 찾는다.\n",
    "    while x is not None:\n",
    "        y = x\n",
    "        if z.key < x.key:\n",
    "            x = x.left\n",
    "        else:\n",
    "            x = x.right\n",
    "    \n",
    "    # y는 z의 부모가 됨\n",
    "    z.parent = y\n",
    "    \n",
    "    # y가 None이면 트리가 비어있는 상태\n",
    "    if y is None:\n",
    "        t = z\n",
    "    # z의 키가 y의 키보다 작으면 왼쪽 자식으로 삽입\n",
    "    elif z.key < y.key:\n",
    "        y.left = z\n",
    "    # z의 키가 y의 키보다 크면 오른쪽 자식으로 삽입\n",
    "    else:\n",
    "        y.right = z\n",
    "    \n",
    "    return t\n",
    "\n",
    "keys = [30, 20, 25, 40, 10, 35]\n",
    "t = None\n",
    "for key in keys:\n",
    "    t = treeInsert(t, key)"
   ]
  },
  {
   "cell_type": "markdown",
   "metadata": {
    "id": "kAD8Va0dU8UH"
   },
   "source": [
    "**Tree 내용 확인 (참고하기)**"
   ]
  },
  {
   "cell_type": "code",
   "execution_count": 5,
   "metadata": {
    "colab": {
     "base_uri": "https://localhost:8080/"
    },
    "id": "ZYyWerryzjkE",
    "outputId": "3eee460a-e5ae-410b-c010-5ef5a77cb74f"
   },
   "outputs": [
    {
     "name": "stdout",
     "output_type": "stream",
     "text": [
      "30 - 20 - 40\n",
      "20 - 10 - 25\n",
      "40 - 35 - \n",
      "10 -  - \n",
      "25 -  - \n",
      "35 -  - \n"
     ]
    }
   ],
   "source": [
    "import queue\n",
    "\n",
    "# BFS(Breadth-First Search)을 단순화한 Tree 탐색 구현 함수\n",
    "def showTree(t):\n",
    "    if t == None:\n",
    "      return\n",
    "\n",
    "    Q = queue.Queue()             # 파이썬 큐 모듈의 큐 객체 생성\n",
    "    Q.put(t)                      # 시작 노드 s를 Queue에 추가\n",
    "    while not Q.empty():          # 큐에 (자식을 찾을) 항목이 남아있는 동안\n",
    "        u = Q.get()               # 큐의 맨 앞에서 정점 u를 하나 추출하여\n",
    "        print(u.key, end=\" - \")   # 자신의 key 값 출력하고\n",
    "        if u.left != None:        # 왼쪽 자식이 있으면 key 값 출력하고\n",
    "          Q.put(u.left)\n",
    "          print(u.left.key, end=\"\")\n",
    "        print(\"\", end=\" - \")      # 오른쪽 자식이 있으면 key 값 출력함\n",
    "        if u.right != None:\n",
    "          Q.put(u.right)\n",
    "          print(u.right.key, end=\"\")\n",
    "        print()\n",
    "\n",
    "showTree(t)"
   ]
  },
  {
   "cell_type": "markdown",
   "metadata": {
    "id": "8aZRfjO6VGoX"
   },
   "source": [
    "**BST에서의 검색 구현**"
   ]
  },
  {
   "cell_type": "code",
   "execution_count": 6,
   "metadata": {
    "colab": {
     "base_uri": "https://localhost:8080/"
    },
    "id": "C9kxMtuilE0y",
    "outputId": "d6c4199f-98c5-40b1-bfe5-bb6df439d390"
   },
   "outputs": [
    {
     "name": "stdout",
     "output_type": "stream",
     "text": [
      "30 20 40\n",
      "key 50는 없음!\n"
     ]
    }
   ],
   "source": [
    "def treeSearch(t, key):\n",
    "    # 현재 노드 t가 None이 아니고, t의 키 값이 찾고자 하는 key 값과 다른 동안 반복\n",
    "    while t is not None and key != t.key:\n",
    "        # 찾고자 하는 key 값이 현재 노드의 키 값보다 작으면 왼쪽 자식으로 이동\n",
    "        if key < t.key:\n",
    "            t = t.left\n",
    "        # 찾고자 하는 key 값이 현재 노드의 키 값보다 크면 오른쪽 자식으로 이동\n",
    "        else:\n",
    "            t = t.right\n",
    "    return t\n",
    "\n",
    "key = 30    # key=30 이 존재함\n",
    "n = treeSearch(t, key)\n",
    "print(n.key, n.left.key, n.right.key)\n",
    "\n",
    "key = 50    # key=50 은 존재하지 않음\n",
    "n = treeSearch(t, key)\n",
    "if n != None:   # 예외처리\n",
    "    print(n.key, n.left.key, n.right.key)\n",
    "else:\n",
    "    print(\"key %s는 없음!\" % key)"
   ]
  },
  {
   "cell_type": "markdown",
   "metadata": {
    "id": "s7K5oM4OVumD"
   },
   "source": [
    "**BST에서의 삭제 구현**"
   ]
  },
  {
   "cell_type": "code",
   "execution_count": 7,
   "metadata": {
    "colab": {
     "base_uri": "https://localhost:8080/"
    },
    "id": "9A7FiqaCbynF",
    "outputId": "8f6e160f-e8df-4cf9-8221-dcdfba2c63fe"
   },
   "outputs": [
    {
     "name": "stdout",
     "output_type": "stream",
     "text": [
      "30 - 20 - 40\n",
      "20 - 10 - 25\n",
      "40 - 35 - \n",
      "10 -  - \n",
      "25 -  - \n",
      "35 -  - \n",
      "\n",
      "30 - 20 - 35\n",
      "20 - 10 - 25\n",
      "35 -  - \n",
      "10 -  - \n",
      "25 -  - \n",
      "\n",
      "30 - 25 - 35\n",
      "25 - 10 - \n",
      "35 -  - \n",
      "10 -  - \n",
      "\n",
      "30 - 25 - \n",
      "25 - 10 - \n",
      "10 -  - \n",
      "\n",
      "25 - 10 - \n",
      "10 -  - \n",
      "\n"
     ]
    }
   ],
   "source": [
    "def treeMinimum(x):\n",
    "    while x.left is not None:\n",
    "        x = x.left\n",
    "    return x\n",
    "\n",
    "def treeDelete(t, r, p):\n",
    "    # r이 자식이 없는 노드인 경우\n",
    "    if r.left is None and r.right is None:\n",
    "        if p is None:\n",
    "            t = None\n",
    "        elif p.left == r:\n",
    "            p.left = None\n",
    "        else:\n",
    "            p.right = None\n",
    "    # r이 오른쪽 자식만 가지는 경우\n",
    "    elif r.left is None:\n",
    "        if p is None:\n",
    "            t = r.right\n",
    "        elif p.left == r:\n",
    "            p.left = r.right\n",
    "        else:\n",
    "            p.right = r.right\n",
    "        r.right.parent = p\n",
    "    # r이 왼쪽 자식만 가지는 경우\n",
    "    elif r.right is None:\n",
    "        if p is None:\n",
    "            t = r.left\n",
    "        elif p.left == r:\n",
    "            p.left = r.left\n",
    "        else:\n",
    "            p.right = r.left\n",
    "        r.left.parent = p\n",
    "    # r이 두 개의 자식을 모두 가지는 경우\n",
    "    else:\n",
    "        y = treeMinimum(r.right)\n",
    "        r.key = y.key\n",
    "        t = treeDelete(t, y, y.parent)\n",
    "    return t\n",
    "\n",
    "def deleteNode(r):\n",
    "    if r is None:\n",
    "        return None\n",
    "    p = r.parent\n",
    "    t = None if p is None else (p.left if p.left == r else p.right)\n",
    "    return treeDelete(t, r, p)\n",
    "\n",
    "showTree(t); print()\n",
    "\n",
    "keys = [40, 20, 35, 30]   # 순서대로 삭제할 노드\n",
    "for key in keys:\n",
    "    r = treeSearch(t, key)  # 삭제할 key값의 노드를 찾고\n",
    "    if r != None:\n",
    "        p = r.parent          # 부모 노드도 찾아서\n",
    "        t = treeDelete(t, r, p) # 노드 삭제\n",
    "    showTree(t); print()\n"
   ]
  },
  {
   "cell_type": "markdown",
   "metadata": {
    "id": "DRaa2DOuDsAb"
   },
   "source": [
    "![image.png](data:image/png;base64,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)"
   ]
  },
  {
   "cell_type": "markdown",
   "metadata": {
    "id": "WRpq6oAL1Jf5"
   },
   "source": [
    "## **데이터 탐색으로 확장하기 (참고하기)**"
   ]
  },
  {
   "cell_type": "code",
   "execution_count": 8,
   "metadata": {
    "id": "VSuQOVXqLqHU"
   },
   "outputs": [],
   "source": [
    "class Node():\n",
    "  def __init__(self, key):\n",
    "    self.key = key\n",
    "    self.left = None\n",
    "    self.right = None\n",
    "    self.parent = None\n",
    "    self.index = None  # 실제 Data를 연결하기 위한 index를 추가함"
   ]
  },
  {
   "cell_type": "code",
   "execution_count": 9,
   "metadata": {
    "id": "FBxu63fivKHw"
   },
   "outputs": [],
   "source": [
    "def treeInsert(t, key, index):\n",
    "    # 새로운 노드 생성\n",
    "    z = Node(key)\n",
    "    z.index = index  # 인덱스 설정\n",
    "    \n",
    "    # y는 현재 노드의 부모를 추적하기 위한 변수\n",
    "    y = None\n",
    "    # x는 트리를 순회하기 위한 변수\n",
    "    x = t\n",
    "    \n",
    "    # 트리를 순회하면서 삽입할 위치를 찾는다.\n",
    "    while x is not None:\n",
    "        y = x\n",
    "        if z.key < x.key:\n",
    "            x = x.left\n",
    "        else:\n",
    "            x = x.right\n",
    "    \n",
    "    # y는 z의 부모가 됨\n",
    "    z.parent = y\n",
    "    \n",
    "    # y가 None이면 트리가 비어있는 상태\n",
    "    if y is None:\n",
    "        t = z\n",
    "    # z의 키가 y의 키보다 작으면 왼쪽 자식으로 삽입\n",
    "    elif z.key < y.key:\n",
    "        y.left = z\n",
    "    # z의 키가 y의 키보다 크면 오른쪽 자식으로 삽입\n",
    "    else:\n",
    "        y.right = z\n",
    "    \n",
    "    return t\n",
    "\n",
    "keys = [30, 20, 25, 40, 10, 35]\n",
    "t = None\n",
    "for i, key in enumerate(keys):\n",
    "    t = treeInsert(t, key, i)\n",
    "\n",
    "z = None\n",
    "for i, stu in enumerate(students):\n",
    "    z = treeInsert(z, stu[1], i)\n"
   ]
  },
  {
   "cell_type": "code",
   "execution_count": 10,
   "metadata": {
    "colab": {
     "base_uri": "https://localhost:8080/"
    },
    "id": "KWnfs63qKaXT",
    "outputId": "0dfedc67-2fce-4dad-ba95-bacc6cc7b783"
   },
   "outputs": [
    {
     "name": "stdout",
     "output_type": "stream",
     "text": [
      "30 - 20 - 40\n",
      "20 - 10 - 25\n",
      "40 - 35 - \n",
      "10 -  - \n",
      "25 -  - \n",
      "35 -  - \n",
      "Kim - Choi - Lee\n",
      "Choi -  - Jung\n",
      "Lee -  - Park\n",
      "Jung -  - Kang\n",
      "Park -  - \n",
      "Kang -  - \n"
     ]
    }
   ],
   "source": [
    "showTree(t)    # Student id를 key로 하는 BST\n",
    "showTree(z)    # Student name을 key로 하는 BST"
   ]
  },
  {
   "cell_type": "markdown",
   "metadata": {
    "id": "tAa7wIkV4RQX"
   },
   "source": [
    "* Name을 key로 생성된 BST는 다른 구조임을 알 수 있다."
   ]
  },
  {
   "cell_type": "markdown",
   "metadata": {
    "id": "XKTHoZqj4KVu"
   },
   "source": [
    "![image.png](data:image/png;base64,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)"
   ]
  },
  {
   "cell_type": "markdown",
   "metadata": {
    "id": "707dlx_87i-8"
   },
   "source": [
    "* 이제 id 뿐만 아니라 name으로도 검색할 수 있다."
   ]
  },
  {
   "cell_type": "code",
   "execution_count": 11,
   "metadata": {
    "colab": {
     "base_uri": "https://localhost:8080/"
    },
    "id": "qmHRzxoIz0mA",
    "outputId": "68309f5b-e10c-4819-93d4-8680dc286a03"
   },
   "outputs": [
    {
     "name": "stdout",
     "output_type": "stream",
     "text": [
      "(30, 'Kim', 'kim@khu.ac.kr', '010-201-1234')\n",
      "(10, 'Jung', 'jung@khu.ac.kr', '010-201-1239')\n"
     ]
    }
   ],
   "source": [
    "# student id로 검색하는 경우\n",
    "n = treeSearch(t, 30)\n",
    "print(students[n.index])\n",
    "\n",
    "# student name으로 검색하는 경우\n",
    "n = treeSearch(z, 'Jung')\n",
    "print(students[n.index])"
   ]
  },
  {
   "cell_type": "code",
   "execution_count": null,
   "metadata": {},
   "outputs": [],
   "source": []
  }
 ],
 "metadata": {
  "colab": {
   "authorship_tag": "ABX9TyOY6DFH/KxOhkFFfAwOQFp7",
   "include_colab_link": true,
   "provenance": []
  },
  "kernelspec": {
   "display_name": "Python 3 (ipykernel)",
   "language": "python",
   "name": "python3"
  },
  "language_info": {
   "codemirror_mode": {
    "name": "ipython",
    "version": 3
   },
   "file_extension": ".py",
   "mimetype": "text/x-python",
   "name": "python",
   "nbconvert_exporter": "python",
   "pygments_lexer": "ipython3",
   "version": "3.11.5"
  }
 },
 "nbformat": 4,
 "nbformat_minor": 1
}
