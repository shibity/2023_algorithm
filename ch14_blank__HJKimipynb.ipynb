{
 "cells": [
  {
   "cell_type": "markdown",
   "metadata": {
    "id": "view-in-github"
   },
   "source": [
    "<a href=\"https://colab.research.google.com/github/jjyjung/ai/blob/gh-pages/ch14_blank.ipynb\" target=\"_parent\"><img src=\"https://colab.research.google.com/assets/colab-badge.svg\" alt=\"Open In Colab\"/></a>"
   ]
  },
  {
   "cell_type": "markdown",
   "metadata": {
    "id": "lDHHdO1U4IdN"
   },
   "source": [
    "**Coloring**"
   ]
  },
  {
   "cell_type": "code",
   "execution_count": 1,
   "metadata": {
    "id": "j0xK_J08JAJA"
   },
   "outputs": [],
   "source": [
    "my_color = {\n",
    "     1:{2,3,4,6},\n",
    "     2:{1,5,6},\n",
    "     3:{1,6},\n",
    "     4:{1,5,6},\n",
    "     5:{2,4,6},\n",
    "     6:{1,2,3,4,5}\n",
    "}"
   ]
  },
  {
   "cell_type": "code",
   "execution_count": 6,
   "metadata": {
    "colab": {
     "base_uri": "https://localhost:8080/"
    },
    "id": "Rjp6mTTAJOLa",
    "outputId": "9c3e8328-bfd6-48a9-b6eb-32a4098cbe61"
   },
   "outputs": [
    {
     "name": "stdout",
     "output_type": "stream",
     "text": [
      "True\n",
      "3 {1: 1, 2: 2, 3: 2, 4: 2, 5: 1, 6: 3}\n"
     ]
    }
   ],
   "source": [
    "color = {}  # dictionary 초기화\n",
    "def kColoring(G, i, c):\n",
    "  if valid(G, i, c):\n",
    "    color[i] = c\n",
    "    if i == len(G): return True\n",
    "    else:\n",
    "      result = False\n",
    "      d=1\n",
    "      while result == False and d <= k:\n",
    "        result = kColoring(G,i+1,d)\n",
    "        d+=1\n",
    "    return result\n",
    "  else :\n",
    "    return False\n",
    "\n",
    "def valid(G, i, c):\n",
    "  for j in range(1,i):\n",
    "    if j in G[i] and color[j] == c:\n",
    "      return False\n",
    "  return True\n",
    "\n",
    "k=3\n",
    "print(kColoring(my_color, 1, 1))\n",
    "print(k, color)"
   ]
  },
  {
   "cell_type": "markdown",
   "metadata": {
    "id": "o1ZL0vDFRyW7"
   },
   "source": [
    "**A_star Algorithm**"
   ]
  },
  {
   "cell_type": "code",
   "execution_count": 7,
   "metadata": {
    "id": "oiJJqjjmPAk_"
   },
   "outputs": [],
   "source": [
    "my_graph = {\"s\":{\"a\":10, \"b\":17, \"c\":25, \"d\":23, \"e\":30},\n",
    "            \"a\":{\"b\":20},\n",
    "            \"b\":{\"c\":17},\n",
    "            \"c\":{\"f\":25, \"g\":39},\n",
    "            \"d\":{\"c\":28, \"e\":16, \"h\":18},\n",
    "            \"e\":{\"a\":19, \"h\":24},\n",
    "            \"f\":{\"g\":29},\n",
    "            \"g\":{\"d\":20, \"t\":28},\n",
    "            \"h\":{\"t\":20},\n",
    "            \"t\":{\"f\":40}}\n",
    "my_h = {\"s\":52, \"a\":61, \"b\":68, \"c\":52, \"d\":34,\n",
    "        \"e\":40, \"f\":39, \"g\":19, \"h\":19, \"t\":0}"
   ]
  },
  {
   "cell_type": "code",
   "execution_count": 9,
   "metadata": {
    "colab": {
     "base_uri": "https://localhost:8080/"
    },
    "id": "Yt9pevNqNcHE",
    "outputId": "0939a1c9-7135-4917-f908-3332c8ba90e6"
   },
   "outputs": [
    {
     "name": "stdout",
     "output_type": "stream",
     "text": [
      "74\n",
      "['t', 'h', 'e', 's']\n",
      "['s', 'e', 'h', 't']\n"
     ]
    }
   ],
   "source": [
    "path=[]\n",
    "visited =[]\n",
    "def A_star(G,H,s,t):\n",
    "  Q=list(G.keys())\n",
    "  g={}; f={}; h={}\n",
    "  prev={}\n",
    "  for u in Q:\n",
    "    g[u]=1000; f[u]=1000;\n",
    "    h[u]=H[u]\n",
    "  g[s]=0; f[s]=h[s]\n",
    "  while len(Q)>0:\n",
    "    u=deleteMin(Q,f)\n",
    "    visited.append(u)\n",
    "    Q.remove(u)\n",
    "    if u == t :\n",
    "      print(f[u]); find_path(prev, u)\n",
    "      print(path); print(visited); return\n",
    "    else :\n",
    "      for v in G[u].keys():\n",
    "        if v in Q and g[u]+G[u][v] < g[v]:\n",
    "          g[v]= g[u]+G[u][v]\n",
    "          prev[v]=u\n",
    "          f[v]=g[v]+h[v]\n",
    "\n",
    "\n",
    "def deleteMin(Q, f):\n",
    "  mini = 1000\n",
    "  for q in Q:\n",
    "    if f[q]<mini:\n",
    "      u=q\n",
    "  return u\n",
    "\n",
    "def find_path(prev,v):\n",
    "  path.append(v)\n",
    "  if v in prev.keys():\n",
    "    find_path(prev,prev[v])\n",
    "\n",
    "A_star(my_graph,my_h,\"s\",\"t\")"
   ]
  },
  {
   "cell_type": "code",
   "execution_count": null,
   "metadata": {
    "id": "duWHop3cKoNK"
   },
   "outputs": [],
   "source": []
  }
 ],
 "metadata": {
  "colab": {
   "provenance": []
  },
  "kernelspec": {
   "display_name": "Python 3 (ipykernel)",
   "language": "python",
   "name": "python3"
  },
  "language_info": {
   "codemirror_mode": {
    "name": "ipython",
    "version": 3
   },
   "file_extension": ".py",
   "mimetype": "text/x-python",
   "name": "python",
   "nbconvert_exporter": "python",
   "pygments_lexer": "ipython3",
   "version": "3.11.5"
  }
 },
 "nbformat": 4,
 "nbformat_minor": 1
}
