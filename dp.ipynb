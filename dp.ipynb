{
 "cells": [
  {
   "cell_type": "markdown",
   "metadata": {
    "id": "azesszmmvE1j"
   },
   "source": [
    "#### **재귀적 해법이 바람직한 예**"
   ]
  },
  {
   "cell_type": "code",
   "execution_count": null,
   "metadata": {
    "id": "oXZ6nEkKvC1g"
   },
   "outputs": [],
   "source": [
    "# Factorial\n",
    "n = int(input())\n",
    "\n",
    "facto = 1\n",
    "for i in range(n,0,-1) :\n",
    "  facto *= i\n",
    "\n",
    "print(facto)"
   ]
  },
  {
   "cell_type": "markdown",
   "metadata": {
    "id": "dns7xr23vO8c"
   },
   "source": [
    "### **재귀적 해법이 치명적인 예 → dynamic programming**"
   ]
  },
  {
   "cell_type": "markdown",
   "metadata": {
    "id": "-GmVrdkVvd77"
   },
   "source": [
    "#### **피보나치 수열**"
   ]
  },
  {
   "cell_type": "code",
   "execution_count": null,
   "metadata": {
    "id": "hXZ2GNlSPOwJ"
   },
   "outputs": [],
   "source": [
    "# 재귀적\n",
    "def fib(n) :\n",
    "  if n == 1 or n == 2 :\n",
    "    return 1\n",
    "  else :\n",
    "    return fib(n-1) + fib(n-2)"
   ]
  },
  {
   "cell_type": "code",
   "execution_count": null,
   "metadata": {
    "id": "kLjdnY57YZkl"
   },
   "outputs": [],
   "source": [
    "# 상향식 Bottom-Up 방식\n",
    "def fib(n) :\n",
    "  f = [0] * (n+1)\n",
    "  f[1] = f[2] = 1\n",
    "  for i in range(3,n+1) :\n",
    "    f[i] = f[i-1] + f[i-2]\n",
    "  return f[n]"
   ]
  },
  {
   "cell_type": "code",
   "execution_count": null,
   "metadata": {
    "id": "VUiMCN5VYaoA"
   },
   "outputs": [],
   "source": [
    "# 하향식 Top-Down 방식\n",
    "def fib(n) :\n",
    "  f[0] *= 10000\n",
    "  if f[n] != 0 :\n",
    "    return f[n]\n",
    "  else :\n",
    "    if n == 1 or n == 2 :\n",
    "      f[n] = 1\n",
    "    else :\n",
    "      f[n] = fib(n-1) + fib(n-2)\n",
    "\n",
    "  return f[n]"
   ]
  },
  {
   "cell_type": "markdown",
   "metadata": {
    "id": "QDIlqMSMvjmX"
   },
   "source": [
    "#### **행렬 곱셈 최적 순서 구하기**"
   ]
  },
  {
   "cell_type": "markdown",
   "metadata": {
    "id": "DONMqBgEvnzb"
   },
   "source": [
    "#### **조약돌 놓기** (근데 이거 212가 아니라 106이 나와야 하는데....)"
   ]
  },
  {
   "cell_type": "code",
   "execution_count": null,
   "metadata": {
    "colab": {
     "base_uri": "https://localhost:8080/"
    },
    "executionInfo": {
     "elapsed": 325,
     "status": "ok",
     "timestamp": 1698107217388,
     "user": {
      "displayName": "‍차민재[학생](공과대학 산업경영공학과)",
      "userId": "04181860450817530212"
     },
     "user_tz": -540
    },
    "id": "BZNlbzvbN8OI",
    "outputId": "ac503bb4-39bc-40c3-89f7-4be1ebbed51d"
   },
   "outputs": [
    {
     "data": {
      "text/plain": [
       "[[6, -8, 11, 17],\n",
       " [7, 10, 12, 19],\n",
       " [12, 14, 7, 19],\n",
       " [-5, 9, 4, -1],\n",
       " [5, 7, 8, 13],\n",
       " [3, 13, -2, 1],\n",
       " [11, 8, 9, 20],\n",
       " [3, 5, 4, 7]]"
      ]
     },
     "execution_count": 11,
     "metadata": {},
     "output_type": "execute_result"
    }
   ],
   "source": [
    "A1 = [[6,-8,11], [7,10,12],[12,14,7],[-5, 9, 4],[5, 7, 8],[3, 13, -2],[11, 8, 9],[3, 5, 4]]\n",
    "A2 = [[6,-8,11], [7,10,12],[12,14,7],[-5, 9, 4],[5, 7, 8],[3, 13, -2],[11, 8, 9],[3, 5, 4],\n",
    "     [6,-8,11], [7,10,12],[12,14,7],[-5, 9, 4],[5, 7, 8],[3, 13, -2],[11, 8, 9],[3, 5, 4]]\n",
    "\n",
    "# 4번 전략에 대비하여 미리 계산하기\n",
    "def append_weight(A):\n",
    "  for row in range(len(A)) :\n",
    "    sum = 0\n",
    "    col = len(A[row])\n",
    "    sum = A[row][0] + A[row][col-1]\n",
    "    A[row].append(sum)\n",
    "\n",
    "  return A\n",
    "w1 = append_weight(A1)\n",
    "w1"
   ]
  },
  {
   "cell_type": "code",
   "execution_count": null,
   "metadata": {
    "colab": {
     "base_uri": "https://localhost:8080/"
    },
    "executionInfo": {
     "elapsed": 764,
     "status": "ok",
     "timestamp": 1698107221950,
     "user": {
      "displayName": "‍차민재[학생](공과대학 산업경영공학과)",
      "userId": "04181860450817530212"
     },
     "user_tz": -540
    },
    "id": "_AD9BvrmE9Yc",
    "outputId": "27ccc74e-182a-4055-82bb-d8f5ecd73e52"
   },
   "outputs": [
    {
     "name": "stdout",
     "output_type": "stream",
     "text": [
      "212\n",
      "\n",
      "  0.363872 sec.\n"
     ]
    }
   ],
   "source": [
    "#Pebble 재귀적 호출 버전\n",
    "\n",
    "# 1\n",
    "def pebbleSum():\n",
    "  n = len(w) #여기서는 8\n",
    "  m = [pebble(n-1,0), pebble(n-1,1), pebble(n-1,2), pebble(n-1,3)]\n",
    "  return max(m)\n",
    "\n",
    "# 2\n",
    "def pebble(i,p):\n",
    "  if i == 0:\n",
    "    return w[0][p]\n",
    "  else:\n",
    "    M = float(\"-inf\")\n",
    "    for q in range(0,4):\n",
    "      if compatible(p,q) == 1:\n",
    "        tmp = pebble(i-1,q)\n",
    "        if tmp > M:\n",
    "          M = tmp\n",
    "    return w[i][p] + M   #i번째 줄에 선택한 그 값과, M(i-1까지 모든 열에서 선택된 애들 합 전체)\n",
    "\n",
    "#3\n",
    "def compatible(p,q):\n",
    "  if p == 0:\n",
    "    if (q == 1 or q == 2):\n",
    "      return 1\n",
    "    else:\n",
    "      return 0\n",
    "\n",
    "  elif p == 1:\n",
    "    if (q == 0 or q == 2 or q == 3):\n",
    "      return 1\n",
    "    else:\n",
    "      return 0\n",
    "\n",
    "  elif p == 2:\n",
    "    if (q == 0 or q == 1):\n",
    "      return 1\n",
    "    else:\n",
    "      return 0\n",
    "\n",
    "  elif p == 3:\n",
    "    if q == 1:\n",
    "      return 1\n",
    "    else:\n",
    "      return 0\n",
    "\n",
    "  else:\n",
    "    return 0\n",
    "\n",
    "#위 함수로 문제 풀어보기\n",
    "import time\n",
    "start_time = time.time()\n",
    "#w=append_weight(A1)\n",
    "w = append_weight(A2)\n",
    "print(pebbleSum())\n",
    "print(\"\\n % 4f sec.\" % (time.time() - start_time))"
   ]
  },
  {
   "cell_type": "code",
   "execution_count": null,
   "metadata": {
    "id": "90SXDsC9bqB-"
   },
   "outputs": [],
   "source": [
    "# Pebble DP (top-down) 버전\n",
    "import time\n",
    "# 1\n",
    "def pebbleSum_DP_topdown():\n",
    "  n = len(w)\n",
    "  m = [pebble_DP_topdown(n-1,0), pebble_DP_topdown(n-1,1), pebble_DP_topdown(n-1,2), pebble_DP_topdown(n-1,3)]\n",
    "  return max(m)\n",
    "\n",
    "# 2\n",
    "def pebble_DP_topdown(i, p):\n",
    "  n = len(w)\n",
    "  peb = [[0 for j in range(4)]for i in range(n)]\n",
    "\n",
    "  if i == 0:\n",
    "    peb[0][p] = w[0][p]    #peb라는 저장공간 새로 추가\n",
    "    return w[0][p]\n",
    "  else:\n",
    "    M = float(\"-inf\")\n",
    "    for q in range(0,4):\n",
    "      if compatible(p,q) == 1:\n",
    "        #### 이 부분이 (2)재귀적 부분에서 다 똑같은데 추가 된 부분\n",
    "        if (peb[i-1][q] != 0):   #내가 만든 peb리스트는 기본이 0으로 되어 있음. 만약 구하려는 peb값이 0이 아니면 구하고자 하는 값을 이전에 구해놓았다는 소리\n",
    "          tmp = peb[i-1][q]\n",
    "        ####\n",
    "        else:                    #아니면 0 인건데, 이거는 전에 내가 안구해놔서 아직 뭔지 모르니까 재귀로 한단계씩 뒤로 가면서 구해야함\n",
    "          tmp = pebble_DP_topdown(i-1,q)\n",
    "        if tmp > M:\n",
    "          M = tmp\n",
    "    peb[i][p] = w[i][p] + M\n",
    "    return (w[i][p] + M)\n",
    "\n",
    "# 3\n",
    "def compatible(p,q):\n",
    "  if p == 0:\n",
    "    if (q == 1 or q == 2):\n",
    "      return 1\n",
    "    else:\n",
    "      return 0\n",
    "\n",
    "  elif p == 1:\n",
    "    if (q == 0 or q == 2 or q == 3):\n",
    "      return 1\n",
    "    else:\n",
    "      return 0\n",
    "\n",
    "  elif p == 2:\n",
    "    if (q == 0 or q == 1):\n",
    "      return 1\n",
    "    else:\n",
    "      return 0\n",
    "\n",
    "  elif p == 3:\n",
    "    if q == 1:\n",
    "      return 1\n",
    "    else:\n",
    "      return 0\n",
    "  else:\n",
    "    return 0\n",
    "\n",
    "\n",
    "\n",
    "# 4\n",
    "start_time = time.time()\n",
    "# w = append_weight(A1)\n",
    "w = append_weight(A2)\n",
    "print(pebbleSum_DP_topdown())\n",
    "print(\"\\n %.4f sec.\" % (time.time() - start_time))\n"
   ]
  },
  {
   "cell_type": "code",
   "execution_count": null,
   "metadata": {
    "colab": {
     "base_uri": "https://localhost:8080/"
    },
    "executionInfo": {
     "elapsed": 313,
     "status": "ok",
     "timestamp": 1698107346542,
     "user": {
      "displayName": "‍차민재[학생](공과대학 산업경영공학과)",
      "userId": "04181860450817530212"
     },
     "user_tz": -540
    },
    "id": "mdQHf0HXfrJO",
    "outputId": "76b1e5c5-97f1-46ef-f0d8-54808fff1931"
   },
   "outputs": [
    {
     "name": "stdout",
     "output_type": "stream",
     "text": [
      "212\n",
      "\n",
      " 0.0005 sec.\n"
     ]
    }
   ],
   "source": [
    "# Pebble DP (bottom-up) 버전\n",
    "# 1\n",
    "def pebbleSum_DP_bottomup():\n",
    "  n = len(w)-1  # 8-1=7\n",
    "  peb = [[0 for j in range(4)]for i in range(n+1)]   #[0,0,0,0]짜리 8개\n",
    "  for p in range(0,4):\n",
    "    peb[0][p] = w[0][p]\n",
    "\n",
    "  for i in range(1,n+1):\n",
    "    for p in range(0,4):\n",
    "      if p == 0:\n",
    "        peb[i][0] = max(peb[i-1][1], peb[i-1][2]) + w[i][0]\n",
    "      elif p == 1:\n",
    "        peb[i][1] = max(peb[i-1][0], peb[i-1][2], peb[i-1][3]) + w[i][1]\n",
    "      elif p == 2:\n",
    "        peb[i][2] = max(peb[i-1][0], peb[i-1][1]) + w[i][2]\n",
    "      elif p == 3:\n",
    "        peb[i][3] = peb[i-1][1] + w[i][3]\n",
    "  return max(peb[n][0], peb[n][1], peb[n][2], peb[n][3])\n",
    "\n",
    "# 2\n",
    "import time\n",
    "start_time = time.time()\n",
    "w = append_weight(A2)\n",
    "print(pebbleSum_DP_bottomup())\n",
    "print(\"\\n %.4f sec.\" % (time.time() - start_time))"
   ]
  },
  {
   "cell_type": "markdown",
   "metadata": {
    "id": "3680ef78"
   },
   "source": [
    "### 문제 예 2: 행렬 경로 문제 ###"
   ]
  },
  {
   "cell_type": "code",
   "execution_count": 1,
   "metadata": {
    "executionInfo": {
     "elapsed": 18,
     "status": "ok",
     "timestamp": 1702510798496,
     "user": {
      "displayName": "‍차민재[학생](공과대학 산업경영공학과)",
      "userId": "04181860450817530212"
     },
     "user_tz": -540
    },
    "id": "GnfCeD66jPaw"
   },
   "outputs": [],
   "source": [
    "m1 = [[6,7,12,5], [5,3,11,18], [7,17,3,3], [8,10,14,9]]   # 교재의 예제\n",
    "m2 = [[6,7], [5,3], [7,17]]\n",
    "m3 = [[6,7,12,5], [5,3,11,18], [7,17,3,3], [8,10,14,9],\n",
    "      [6,7,12,5], [5,3,11,18], [7,17,3,3], [8,10,14,9]]"
   ]
  },
  {
   "cell_type": "markdown",
   "metadata": {
    "id": "wBmiYj1xdv0h"
   },
   "source": [
    "#### (3) DP top-down ####"
   ]
  },
  {
   "cell_type": "code",
   "execution_count": null,
   "metadata": {
    "colab": {
     "base_uri": "https://localhost:8080/"
    },
    "executionInfo": {
     "elapsed": 350,
     "status": "ok",
     "timestamp": 1699275717056,
     "user": {
      "displayName": "‍차민재[학생](공과대학 산업경영공학과)",
      "userId": "04181860450817530212"
     },
     "user_tz": -540
    },
    "id": "5lkbfPBld8Sf",
    "outputId": "9ac0dcf6-d360-4def-e49a-be454b56e200"
   },
   "outputs": [
    {
     "name": "stdout",
     "output_type": "stream",
     "text": [
      "7 3\n"
     ]
    },
    {
     "data": {
      "text/plain": [
       "66"
      ]
     },
     "execution_count": 30,
     "metadata": {},
     "output_type": "execute_result"
    }
   ],
   "source": [
    "### 계산한 적이 있으면 cij 반환하고, 계산한 적이 없으면 cij에 저장\n",
    "### 상향식 문제는 애초에 중복될 구조가 아니기 때문에 위와 같은 방식을 사용하지 않음\n",
    "\n",
    "import copy\n",
    "\n",
    "m = m3     # m1, m2, m3로 바꿔가면서 테스트해볼 수 있음\n",
    "n1 = len(m)\n",
    "n2 = len(m[0])\n",
    "c = [[None]*n2 for x in range(n1)]\n",
    "\n",
    "def matrixPath_DP_TD(i,j):\n",
    "  # Top-Down 방식의 DP로 구현하시오.\n",
    "  if c[i][j] != None :\n",
    "    return c[i][j]\n",
    "  else :\n",
    "    if (i==0 and j==0) :\n",
    "      c[0][0] = m[0][0]\n",
    "      return c[0][0]\n",
    "    elif i == 0 :\n",
    "      c[i][j] = matrixPath_DP_TD(0,j-1) + m[i][j]\n",
    "      return c[i][j]\n",
    "    elif j == 0 :\n",
    "      c[i][j] = matrixPath_DP_TD(i-1,0) + m[i][j]\n",
    "      return c[i][j]\n",
    "    else :\n",
    "      return min(matrixPath_DP_TD(i-1,j),matrixPath_DP_TD(i,j-1)) + m[i][j]\n",
    "\n",
    "print(len(m)-1, len(m[0])-1)\n",
    "matrixPath_DP_TD(len(m)-1, len(m[0])-1)"
   ]
  },
  {
   "cell_type": "markdown",
   "metadata": {
    "id": "PfHRNZ8DjK3T"
   },
   "source": [
    "#### DP : Bottom-Up ####"
   ]
  },
  {
   "cell_type": "code",
   "execution_count": 5,
   "metadata": {
    "colab": {
     "base_uri": "https://localhost:8080/"
    },
    "executionInfo": {
     "elapsed": 616,
     "status": "ok",
     "timestamp": 1702510842297,
     "user": {
      "displayName": "‍차민재[학생](공과대학 산업경영공학과)",
      "userId": "04181860450817530212"
     },
     "user_tz": -540
    },
    "id": "tY--mgsGjLMf",
    "outputId": "0476ba8d-64df-40b5-e5ba-2cf92b2d68a7"
   },
   "outputs": [
    {
     "name": "stdout",
     "output_type": "stream",
     "text": [
      "7 3\n"
     ]
    },
    {
     "data": {
      "text/plain": [
       "66"
      ]
     },
     "execution_count": 5,
     "metadata": {},
     "output_type": "execute_result"
    }
   ],
   "source": [
    "import copy\n",
    "\n",
    "def matrixPath_DP_BU(i, j):\n",
    "  n1 = len(m)\n",
    "  n2 = len(m[0])\n",
    "  c = copy.deepcopy(m)\n",
    "  for i in range(1, n1):\n",
    "    c[i][0] = m[i][0] + c[i-1][0]\n",
    "  for j in range(1, n2):\n",
    "    c[0][j] = m[0][j] + c[0][j-1]\n",
    "  for i in range(1, n1):\n",
    "    for j in range(1, n2):\n",
    "      c[i][j] = m[i][j] + min(c[i-1][j], c[i][j-1])\n",
    "  return c[n1-1][n2-1]\n",
    "\n",
    "m = m3\n",
    "print(len(m)-1, len(m[0])-1)\n",
    "matrixPath_DP_BU(len(m)-1, len(m[0])-1)"
   ]
  },
  {
   "cell_type": "markdown",
   "metadata": {
    "id": "0a0541d6"
   },
   "source": [
    "### 문제 예 3: 행렬 곱셈 순서 문제 ###"
   ]
  },
  {
   "cell_type": "markdown",
   "metadata": {
    "id": "UoUKO9cyjknI"
   },
   "source": [
    "#### 재귀"
   ]
  },
  {
   "cell_type": "code",
   "execution_count": null,
   "metadata": {
    "id": "qVLOlgiBjlUQ"
   },
   "outputs": [],
   "source": [
    "import math\n",
    "def re_MatrixChain(i, j):\n",
    "  if i == j:\n",
    "    return 0\n",
    "  mini = math.inf\n",
    "  for k in range(i, j):\n",
    "    q = re_MatrixChain(i, k) + re_MatrixChain(k+1, j) + p[i-1]*p[k]*p[j]\n",
    "    if q < mini:\n",
    "      mini = q\n",
    "  return mini\n",
    "\n",
    "import time # 각 방식의 시간을 체크하기 위함\n",
    "start_time = time.time()\n",
    "p = p3 # p1, p2, p3로 바꿔가며 테스트\n",
    "print(re_MatrixChain(1, len(p)-1))\n",
    "print(\"%.5f sec\" %(time.time()-start_time))"
   ]
  },
  {
   "cell_type": "markdown",
   "metadata": {
    "id": "Wkr19TkTm-Ck"
   },
   "source": [
    "#### (3) DP top-down ####"
   ]
  },
  {
   "cell_type": "code",
   "execution_count": null,
   "metadata": {
    "colab": {
     "base_uri": "https://localhost:8080/"
    },
    "executionInfo": {
     "elapsed": 7,
     "status": "ok",
     "timestamp": 1699275719428,
     "user": {
      "displayName": "‍차민재[학생](공과대학 산업경영공학과)",
      "userId": "04181860450817530212"
     },
     "user_tz": -540
    },
    "id": "TluNrW56oCOJ",
    "outputId": "93356051-ded6-445d-b00b-a3213232ee27"
   },
   "outputs": [
    {
     "name": "stdout",
     "output_type": "stream",
     "text": [
      "5000\n",
      "\n",
      " 0.00029 sec.\n"
     ]
    }
   ],
   "source": [
    "import time\n",
    "\n",
    "p1 = [10, 100, 5, 50]   # 교재의 예제로 10x100, 100x5, 5x50 행렬을 곱하는 경우\n",
    "p2 = [10, 100, 5]\n",
    "p3 = [10, 100, 5, 50, 10, 100, 5, 50, 10, 100, 5, 50, 10, 100, 5, 50]\n",
    "\n",
    "p = p2\n",
    "n = len(p)-1    # n: 행렬 개수\n",
    "mat = [[None]*(n+1) for x in range(n+1)]  # m[i][j]는 Ai~Aj를 곱하는 최소 비용\n",
    "\n",
    "def matrixChain_DP_TD(i, j):\n",
    "  if i == j :\n",
    "    mat[i][j] = 0\n",
    "    return mat[i][j]\n",
    "\n",
    "  if mat[i][j] != None :\n",
    "    return mat[i][j]\n",
    "  else :\n",
    "    min_cost = float('inf')\n",
    "    for k in range(i,j) :\n",
    "      tmp = matrixChain_DP_TD(i,k) + matrixChain_DP_TD(k+1,j) + p[i-1]*p[k]*p[j]\n",
    "      if min_cost  > tmp :\n",
    "        min_cost = tmp\n",
    "    mat[i][j] = min_cost\n",
    "    return mat[i][j]\n",
    "\n",
    "start_time = time.time()\n",
    "print(matrixChain_DP_TD(1, len(p)-1))\n",
    "print(\"\\n %.5f sec.\" % (time.time() - start_time)) # 재귀적 호출에 비하여 시간이 1/1000 수준으로 단축됨"
   ]
  },
  {
   "cell_type": "markdown",
   "metadata": {
    "id": "5dl7Lih_jet0"
   },
   "source": [
    "#### DP : Bottom-Up ####"
   ]
  },
  {
   "cell_type": "code",
   "execution_count": null,
   "metadata": {
    "id": "vN1is73djfYi"
   },
   "outputs": [],
   "source": [
    "def matrixChain_DP_BU():\n",
    "  n = len(p) - 1 # 행렬 개수\n",
    "  mat = [[0]*n for x in range(n)]\n",
    "  for r in range(1, n):\n",
    "    for i in range(0, n-r):\n",
    "      j = i+r\n",
    "      mat[i][j] = min([mat[i][k] + mat[k+1][j] + p[i-1]*p[k]*p[j] for k in range(i, j)])\n",
    "  return mat[0][-1]\n",
    "\n",
    "p = p2\n",
    "matrixChain_DP_BU()"
   ]
  },
  {
   "cell_type": "markdown",
   "metadata": {
    "id": "20912e6f"
   },
   "source": [
    "### 문제 예 4: 최장 공통 부분순서 (LCS) ###"
   ]
  },
  {
   "cell_type": "markdown",
   "metadata": {
    "id": "aTkSvg6qkA25"
   },
   "source": [
    "#### 재귀"
   ]
  },
  {
   "cell_type": "code",
   "execution_count": null,
   "metadata": {
    "id": "zzQsFiiBkAYf"
   },
   "outputs": [],
   "source": [
    "X = \"abcbdab\"\n",
    "Y = \"bdcaba\"\n",
    "\n",
    "def rLCS(m,n):  # m과 n은 비교할 개수\n",
    "  if (m==0)|(n==0):\n",
    "    return 0\n",
    "  elif X[m-1] == Y[n-1]:\n",
    "    return rLCS(m-1, n-1) + 1\n",
    "  return max(rLCS(m-1,n), rLCS(m,n-1))\n",
    "\n",
    "rLCS(len(X), len(Y))"
   ]
  },
  {
   "cell_type": "markdown",
   "metadata": {
    "id": "kE-FdHN27-WM"
   },
   "source": [
    "#### (3) DP top-down ####"
   ]
  },
  {
   "cell_type": "code",
   "execution_count": null,
   "metadata": {
    "colab": {
     "base_uri": "https://localhost:8080/"
    },
    "executionInfo": {
     "elapsed": 352,
     "status": "ok",
     "timestamp": 1699275721875,
     "user": {
      "displayName": "‍차민재[학생](공과대학 산업경영공학과)",
      "userId": "04181860450817530212"
     },
     "user_tz": -540
    },
    "id": "qRSMhPVXTDAn",
    "outputId": "53287dd2-9850-44de-a694-80f14321f603"
   },
   "outputs": [
    {
     "data": {
      "text/plain": [
       "(4, 'bdab')"
      ]
     },
     "execution_count": 32,
     "metadata": {},
     "output_type": "execute_result"
    }
   ],
   "source": [
    "X = \"abcbdab\"\n",
    "Y = \"bdcaba\"\n",
    "\n",
    "# Top-Down 방식의 DP로 구현하시오.\n",
    "mat = [[-1]*(len(Y)+1) for x in range(len(X)+1)]\n",
    "\n",
    "def LCS2_DP_TD(i,j):  # m과 n은 비교할 개수\n",
    "  # LCS 길이\n",
    "  def LSC_length(i,j) :\n",
    "    if i == 0 or j == 0 :\n",
    "      mat[i][j] = 0\n",
    "      return 0\n",
    "\n",
    "    if mat[i][j] != -1 :\n",
    "      return mat[i][j]\n",
    "    else :\n",
    "      if X[i-1] == Y[j-1] :\n",
    "        mat[i][j] = LSC_length(i-1, j-1) + 1\n",
    "        return mat[i][j]\n",
    "      else :\n",
    "        mat[i][j] = max(LSC_length(i-1, j), LSC_length(i, j-1))\n",
    "        return mat[i][j]\n",
    "\n",
    "  length = LSC_length(i,j)\n",
    "\n",
    "  # LCS 문자열\n",
    "  lcs = []\n",
    "  m = len(X); n = len(Y)\n",
    "\n",
    "  while m > 0 and n > 0 :\n",
    "    if X[m-1] == Y[n-1] :\n",
    "      lcs.append(X[m-1])\n",
    "      m -= 1 ; n -= 1\n",
    "    elif mat[m - 1][n] > mat[m][n - 1] :\n",
    "      m -= 1\n",
    "    else :\n",
    "      n -= 1\n",
    "  return length, ''.join(reversed(lcs))\n",
    "\n",
    "\n",
    "### 문자열과 길이 모두 출력하는 형태로 함수 작성\n",
    "LCS2_DP_TD(len(X), len(Y))"
   ]
  }
 ],
 "metadata": {
  "colab": {
   "authorship_tag": "ABX9TyMxxqjou6lnEEHkuMVLdIXs",
   "provenance": [],
   "toc_visible": true
  },
  "kernelspec": {
   "display_name": "Python 3 (ipykernel)",
   "language": "python",
   "name": "python3"
  },
  "language_info": {
   "codemirror_mode": {
    "name": "ipython",
    "version": 3
   },
   "file_extension": ".py",
   "mimetype": "text/x-python",
   "name": "python",
   "nbconvert_exporter": "python",
   "pygments_lexer": "ipython3",
   "version": "3.11.5"
  }
 },
 "nbformat": 4,
 "nbformat_minor": 1
}
